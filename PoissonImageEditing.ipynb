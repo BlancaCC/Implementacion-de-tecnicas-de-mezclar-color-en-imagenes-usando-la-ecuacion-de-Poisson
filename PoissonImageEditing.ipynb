{
 "cells": [
  {
   "cell_type": "markdown",
   "metadata": {},
   "source": [
    "# Mezclado de regiones usando la ecuación de Poisson \n",
    "\n",
    "Trabajo final de visión por computador curso 2021-2022\n",
    "\n",
    "Miembros equipo: \n",
    "- Exequiel Alberto Castro Rivero \n",
    "- Blanca Cano Camarero "
   ]
  },
  {
   "cell_type": "markdown",
   "metadata": {},
   "source": [
    "## Descripción del problema   \n",
    "TODO: redacción mejor cuando esté acabado \n",
    "Clonación de regiones   \n",
    "\n",
    "## Elementos del problema   \n",
    "\n",
    "Relacionaremos la notación usada de manera teórica: \n",
    "- **Imagen fuente**: Denotada en teoría como $S$ será referenciada como la variable `InputSource`. \n",
    "- **Imagen destino**: Simbolizada como $\\Omega$ aquí será denotada como `OutputSource`.\n",
    "  \n",
    "Todo pixel $p$ de $S$ será un par que denotará sus coordenada dentro de la imagen. \n",
    "Y su **conjunto de vecinos del pixel $p$** denotado como $N_p$ serán calculados gracias a la función `Neighborhood` que definida en la celda de `Código: 1`. \n",
    "\n",
    "\n",
    "Será necesario calcular también el **borde  de $\\Omega$**, que definíamos de manera formal como: \n",
    "\n",
    "$$\\partial\\Omega = \\{ p \\in S \\setminus \\Omega : N_p \\cap \\Omega \\neq  \\emptyset \\}$$\n",
    "\n",
    "Su cálculo se realizará mediante la función `SourceBoundary`, también definida en la celda `Código: 1`.\n",
    "\n"
   ]
  },
  {
   "cell_type": "code",
   "execution_count": 5,
   "metadata": {},
   "outputs": [],
   "source": [
    "# Código: 0   Import básico y otras definiciones globales auxiliares\n",
    "from itertools import chain # Herramienta de programación funcional\n",
    "\n",
    "# TODO: BORRAR la función TODO ANTES DE ENTREGAR\n",
    "def TODO (ms): \n",
    "    '''\n",
    "    Función auxiliar para indicar que una función está en desarrollo\n",
    "    '''\n",
    "    print('TODO', ms)"
   ]
  },
  {
   "cell_type": "code",
   "execution_count": 1,
   "metadata": {},
   "outputs": [
    {
     "data": {
      "text/plain": [
       "3"
      ]
     },
     "execution_count": 1,
     "metadata": {},
     "output_type": "execute_result"
    }
   ],
   "source": [
    "#Código: 1\n",
    "def Neighborhood(pixel : list, inputChanel : list ):\n",
    "    '''\n",
    "    pixel: tupla o lista de dos números naturales que indican  las coordenadas del pixel. se comprobará que que es coherente con las dimensiones de la imagen\n",
    "    inputChanel: imagen a la que pertenece el pixel p. Debe ser solo un canal. Es decir, será una matriz de dos dimensiones. \n",
    "    '''\n",
    "    TODO('Test Neighborhood')\n",
    "\n",
    "    x,y = pixel\n",
    "    #Dimensiones de inputChanel coherente con el pixel demandado\n",
    "    x_max , y_max = inputChanel.shape() #TODO arreglar shape\n",
    "    DimensionChecker = lambda x,y: 0 <= x < x_max and 0 <= y < y_max\n",
    "    assert DimensionChecker(x,y), f' El pixel {pixel} se sale de las dimensiones {x_max}{y_max}'\n",
    "\n",
    "    #Se devuelve el valor de los vecinos \n",
    "    neighborhoodCoordinates = filter(\n",
    "        DimensionChecker,\n",
    "        list( chain.from_iterable(([x+i,y], [x, y+i]) for i in [-1,1])) \n",
    "    )\n",
    "    neighborhoodValues = list(map(\n",
    "        lambda x,y: inputChanel(x,y),\n",
    "        neighborhoodCoordinates\n",
    "    ))\n",
    "    return neighborhoodValues\n",
    "\n",
    "\n",
    "\n",
    "def SourceBoundary(): \n",
    "    TODO('Source Bondary')\n"
   ]
  },
  {
   "cell_type": "code",
   "execution_count": 12,
   "metadata": {},
   "outputs": [
    {
     "ename": "NameError",
     "evalue": "name 'unzip' is not defined",
     "output_type": "error",
     "traceback": [
      "\u001b[0;31m---------------------------------------------------------------------------\u001b[0m",
      "\u001b[0;31mNameError\u001b[0m                                 Traceback (most recent call last)",
      "\u001b[0;32m/var/folders/6x/92l244517zjbjbndy62lk_9m0000gn/T/ipykernel_946/2862131491.py\u001b[0m in \u001b[0;36m<module>\u001b[0;34m\u001b[0m\n\u001b[1;32m      1\u001b[0m \u001b[0mp\u001b[0m \u001b[0;34m=\u001b[0m \u001b[0;34m[\u001b[0m\u001b[0;36m1\u001b[0m\u001b[0;34m,\u001b[0m\u001b[0;36m2\u001b[0m\u001b[0;34m]\u001b[0m\u001b[0;34m\u001b[0m\u001b[0;34m\u001b[0m\u001b[0m\n\u001b[1;32m      2\u001b[0m \u001b[0mf\u001b[0m \u001b[0;34m=\u001b[0m \u001b[0;32mlambda\u001b[0m \u001b[0mx\u001b[0m\u001b[0;34m,\u001b[0m\u001b[0my\u001b[0m\u001b[0;34m:\u001b[0m \u001b[0mx\u001b[0m\u001b[0;34m+\u001b[0m\u001b[0my\u001b[0m\u001b[0;34m\u001b[0m\u001b[0;34m\u001b[0m\u001b[0m\n\u001b[0;32m----> 3\u001b[0;31m \u001b[0mf\u001b[0m\u001b[0;34m(\u001b[0m\u001b[0munzip\u001b[0m\u001b[0;34m(\u001b[0m\u001b[0mp\u001b[0m\u001b[0;34m)\u001b[0m\u001b[0;34m)\u001b[0m\u001b[0;34m\u001b[0m\u001b[0;34m\u001b[0m\u001b[0m\n\u001b[0m",
      "\u001b[0;31mNameError\u001b[0m: name 'unzip' is not defined"
     ]
    }
   ],
   "source": []
  }
 ],
 "metadata": {
  "interpreter": {
   "hash": "24dcaf82da949eb8a169ffe40fd331a23a642ab22de3e08713f616aa663d0868"
  },
  "kernelspec": {
   "display_name": "Python 3.9.7 64-bit ('tensorflow': conda)",
   "language": "python",
   "name": "python3"
  },
  "language_info": {
   "codemirror_mode": {
    "name": "ipython",
    "version": 3
   },
   "file_extension": ".py",
   "mimetype": "text/x-python",
   "name": "python",
   "nbconvert_exporter": "python",
   "pygments_lexer": "ipython3",
   "version": "3.9.7"
  },
  "orig_nbformat": 4
 },
 "nbformat": 4,
 "nbformat_minor": 2
}
