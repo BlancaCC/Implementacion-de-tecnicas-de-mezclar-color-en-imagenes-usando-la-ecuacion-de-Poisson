{
 "cells": [
  {
   "cell_type": "markdown",
   "metadata": {},
   "source": [
    "# Mezclado de regiones usando la ecuación de Poisson \n",
    "\n",
    "Trabajo final de visión por computador curso 2021-2022\n",
    "\n",
    "Miembros equipo: \n",
    "- Exequiel Alberto Castro Rivero \n",
    "- Blanca Cano Camarero "
   ]
  },
  {
   "cell_type": "markdown",
   "metadata": {},
   "source": [
    "## Descripción del problema   \n",
    "TODO: issue #8 redacción mejor cuando esté acabado \n",
    "Clonación de regiones   \n",
    "\n",
    "## Elementos del problema   \n",
    "\n",
    "Relacionaremos la notación usada de manera teórica: \n",
    "- **Imagen fuente**: Denotada en teoría como $S$ será referenciada como la variable `InputSource`. \n",
    "- **Imagen destino**: Simbolizada como $\\Omega$ aquí será denotada como `OutputSource`.\n",
    "  \n",
    "Todo pixel $p$ de $S$ será un par que denotará sus coordenada dentro de la imagen. \n",
    "Y su **conjunto de vecinos del pixel $p$** denotado como $N_p$ serán calculados gracias a la función `Neighborhood` que definida en la celda de `Código: 1`. \n",
    "\n",
    "\n",
    "Será necesario calcular también el **borde  de $\\Omega$**, que definíamos de manera formal como: \n",
    "\n",
    "$$\\partial\\Omega = \\{ p \\in S \\setminus \\Omega : N_p \\cap \\Omega \\neq  \\emptyset \\}$$\n",
    "\n",
    "Su cálculo se realizará mediante la función `SourceBoundary`, también definida en la celda `Código: 1`.\n",
    "\n"
   ]
  },
  {
   "cell_type": "code",
   "execution_count": 18,
   "metadata": {},
   "outputs": [],
   "source": [
    "\n",
    "\n"
   ]
  },
  {
   "cell_type": "code",
   "execution_count": 1,
   "metadata": {},
   "outputs": [],
   "source": [
    "# Código: 0   Import básico y otras definiciones globales auxiliares\n",
    "import numpy as np\n",
    "from itertools import chain # Herramienta de programación funcional\n",
    "\n",
    "# TODO: BORRAR la función TODO ANTES DE ENTREGAR\n",
    "def TODO (ms): \n",
    "    '''\n",
    "    Función auxiliar para indicar que una función está en desarrollo\n",
    "    '''\n",
    "    print('TODO', ms)"
   ]
  },
  {
   "cell_type": "code",
   "execution_count": 2,
   "metadata": {},
   "outputs": [],
   "source": [
    "#Código: 1\n",
    "def Neighborhood(pixel : list, inputChanel : np.ndarray )->list:\n",
    "    '''\n",
    "    pixel: tupla o lista de dos números naturales que indican  las coordenadas del pixel. se comprobará que que es coherente con las dimensiones de la imagen\n",
    "    inputChanel: imagen a la que pertenece el pixel p. Debe ser solo un canal. Es decir, será una matriz de dos dimensiones. \n",
    "    '''\n",
    "    x,y = pixel\n",
    "    #Dimensiones de inputChanel coherente con el pixel demandado\n",
    "    x_max , y_max = np.shape(inputChanel) \n",
    "    DimensionChecker = lambda x,y: 0 <= x < x_max and 0 <= y < y_max\n",
    "    assert DimensionChecker(x,y), f' El pixel {pixel} se sale de las dimensiones {x_max}{y_max}'\n",
    "\n",
    "    #Se devuelven vecino válidos\n",
    "    neighborhoodCoordinates = filter(\n",
    "        lambda tuple : DimensionChecker(tuple[0], tuple[1]),\n",
    "        list( chain.from_iterable(([x+i,y], [x, y+i]) for i in [-1,1])) \n",
    "    )\n",
    "   \n",
    "    return list(neighborhoodCoordinates)\n",
    "\n",
    "\n",
    "def SourceBoundary(inputChanel: np.ndarray, O: set )-> set : \n",
    "    '''\n",
    "    Se pretenda calcular el borde de imagen destino. \n",
    "\n",
    "    inputChanel: imagen a la que pertenece el pixel p. Debe ser solo un canal. Es decir, será una matriz de dos dimensiones. \n",
    "    O: Supondremos que O son n conjunto de pares de tuplas de coordenadas. \n",
    "\n",
    "    Devuelve un conjunto de coordenadas en tuplas que son el borde de O.\n",
    "    ''' \n",
    "    # calculamos el conjunto de puntos S\n",
    "    x_len, y_len = np.shape(inputChanel)\n",
    "    S = set( (i,j) for i in range(x_len) for j in range(y_len)) \n",
    "    # Calculamos la diferencia \n",
    "    difference = S.difference(O)\n",
    "    # Filtramos los puntos que cumplen la condición de que sus vecinos están en O\n",
    "    boundary = set(filter(\n",
    "        lambda p : len(set(\n",
    "            map(\n",
    "                lambda l : tuple(l),\n",
    "                Neighborhood(p, inputChanel)\n",
    "            )\n",
    "            ).intersection(O))>0,\n",
    "        difference\n",
    "    ))\n",
    "\n",
    "    return boundary"
   ]
  },
  {
   "cell_type": "markdown",
   "metadata": {},
   "source": [
    "### Complejidad de las funciones implementadas \n",
    "\n",
    "Para la función `Neighborhood(pixel : list, inputChanel : np.ndarray )`  de la celda `Código: 1` su eficiencia reside: \n",
    "- Coste funciones ya implementada de python y bibliotecas. \n",
    "- De nuestro propio código.   \n",
    "\n",
    "La de nuestro propio código es $O(1)$ ya que no existe ningún bucle interno que dependenda de la entrada de la función. \n",
    "Para funciones externas la única función que podría contener un coste mayor de $O(1)$ podría ser la función `shape` de numpy. Consultando su implementación [1] se puede apreciar que usa dos funciones `len` que volviendo a analizar su eficiencia [2] esta es $O(1)$. \n",
    "\n",
    "Por lo que concluimos que `Neigborhood` tiene una complejidad de $O(1)$. "
   ]
  },
  {
   "cell_type": "markdown",
   "metadata": {},
   "source": [
    "# Bibliografía y otros recursos  \n",
    "\n",
    "[1] Título: Implementación de funciones de la función `shape`. URL: https://github.com/pandas-dev/pandas/blob/master/pandas/core/frame.py Fecha última consulta: 01-01-22. Línea de código: 822-842.\n",
    "\n",
    "[2] Título: *Internal working of the Len() function in Python. URL: https://www.geeksforgeeks.org/internal-working-of-the-len-function-in-python/ autor: GeeksforGeeks. Fecha última consulta: 01-01-22. "
   ]
  }
 ],
 "metadata": {
  "interpreter": {
   "hash": "24dcaf82da949eb8a169ffe40fd331a23a642ab22de3e08713f616aa663d0868"
  },
  "kernelspec": {
   "display_name": "Python 3.9.7 64-bit ('tensorflow': conda)",
   "language": "python",
   "name": "python3"
  },
  "language_info": {
   "codemirror_mode": {
    "name": "ipython",
    "version": 3
   },
   "file_extension": ".py",
   "mimetype": "text/x-python",
   "name": "python",
   "nbconvert_exporter": "python",
   "pygments_lexer": "ipython3",
   "version": "3.9.7"
  },
  "orig_nbformat": 4
 },
 "nbformat": 4,
 "nbformat_minor": 2
}
